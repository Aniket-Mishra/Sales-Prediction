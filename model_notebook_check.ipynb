{
 "cells": [
  {
   "cell_type": "code",
   "execution_count": 1,
   "metadata": {},
   "outputs": [
    {
     "output_type": "execute_result",
     "data": {
      "text/plain": [
       "  rating  sales_in_month_1  sales_in_month_2  sales_in_month_3\n",
       "0    NaN               200               500               300\n",
       "1    NaN               400               300               250\n",
       "2   four               600               200               400\n",
       "3   nine               450               320               650\n",
       "4  seven               600               250               350"
      ],
      "text/html": "<div>\n<style scoped>\n    .dataframe tbody tr th:only-of-type {\n        vertical-align: middle;\n    }\n\n    .dataframe tbody tr th {\n        vertical-align: top;\n    }\n\n    .dataframe thead th {\n        text-align: right;\n    }\n</style>\n<table border=\"1\" class=\"dataframe\">\n  <thead>\n    <tr style=\"text-align: right;\">\n      <th></th>\n      <th>rating</th>\n      <th>sales_in_month_1</th>\n      <th>sales_in_month_2</th>\n      <th>sales_in_month_3</th>\n    </tr>\n  </thead>\n  <tbody>\n    <tr>\n      <th>0</th>\n      <td>NaN</td>\n      <td>200</td>\n      <td>500</td>\n      <td>300</td>\n    </tr>\n    <tr>\n      <th>1</th>\n      <td>NaN</td>\n      <td>400</td>\n      <td>300</td>\n      <td>250</td>\n    </tr>\n    <tr>\n      <th>2</th>\n      <td>four</td>\n      <td>600</td>\n      <td>200</td>\n      <td>400</td>\n    </tr>\n    <tr>\n      <th>3</th>\n      <td>nine</td>\n      <td>450</td>\n      <td>320</td>\n      <td>650</td>\n    </tr>\n    <tr>\n      <th>4</th>\n      <td>seven</td>\n      <td>600</td>\n      <td>250</td>\n      <td>350</td>\n    </tr>\n  </tbody>\n</table>\n</div>"
     },
     "metadata": {},
     "execution_count": 1
    }
   ],
   "source": [
    "import pandas as pd\n",
    "import numpy as np \n",
    "import matplotlib.pyplot as plt\n",
    "import pickle\n",
    "from sklearn.linear_model import LinearRegression\n",
    "\n",
    "from sklearn.model_selection import train_test_split\n",
    "\n",
    "df = pd.read_csv('custom_sales_data.csv')\n",
    "df.head()"
   ]
  },
  {
   "cell_type": "code",
   "execution_count": 2,
   "metadata": {},
   "outputs": [
    {
     "output_type": "execute_result",
     "data": {
      "text/plain": [
       "rating              2\n",
       "sales_in_month_1    0\n",
       "sales_in_month_2    0\n",
       "sales_in_month_3    0\n",
       "dtype: int64"
      ]
     },
     "metadata": {},
     "execution_count": 2
    }
   ],
   "source": [
    "df.isna().sum()"
   ]
  },
  {
   "cell_type": "code",
   "execution_count": 3,
   "metadata": {},
   "outputs": [],
   "source": [
    "df['rating'].fillna(0, inplace = True) # Replacing all missing values with 0\n",
    "\n",
    "features = df.iloc[:, :3] # Up to column Month 2 \n",
    "\n",
    "def to_int(name):\n",
    "    names_dict = {'zero': 0, 'one': 1, 'two': 2, 'three': 3, 'four': 4, 'five': 5, 'six': 6, 'seven': 7, 'eight': 8, 'nine': 9, 0: 0}\n",
    "    return names_dict[name]\n",
    "\n",
    "features['rating'] = features['rating'].apply(lambda x: to_int(x))\n",
    "\n",
    "target = df.loc[:, 'sales_in_month_3']"
   ]
  },
  {
   "cell_type": "markdown",
   "metadata": {},
   "source": [
    "### Model building"
   ]
  },
  {
   "cell_type": "code",
   "execution_count": 4,
   "metadata": {},
   "outputs": [
    {
     "output_type": "stream",
     "name": "stdout",
     "text": [
      "77.82868230501884\n[52.97511151 -0.12105166  0.36860202]\n"
     ]
    }
   ],
   "source": [
    "linear_regressor = LinearRegression()\n",
    "\n",
    "linear_regressor.fit(features, target)\n",
    "\n",
    "\n",
    "print(linear_regressor.intercept_)\n",
    "print(linear_regressor.coef_)"
   ]
  },
  {
   "cell_type": "code",
   "execution_count": 5,
   "metadata": {},
   "outputs": [
    {
     "output_type": "execute_result",
     "data": {
      "text/plain": [
       "0.648632823953111"
      ]
     },
     "metadata": {},
     "execution_count": 5
    }
   ],
   "source": [
    "linear_regressor.score(features, target)"
   ]
  },
  {
   "cell_type": "markdown",
   "metadata": {},
   "source": [
    "### Pickle Model"
   ]
  },
  {
   "cell_type": "code",
   "execution_count": 6,
   "metadata": {},
   "outputs": [
    {
     "output_type": "stream",
     "name": "stdout",
     "text": [
      "[450.36451035]\n"
     ]
    }
   ],
   "source": [
    "pickle.dump(linear_regressor, open('model.pkl', 'wb'))\n",
    "\n",
    "model = pickle.load(open('model.pkl', 'rb'))\n",
    "\n",
    "print(model.predict([[4,500,600]]))"
   ]
  }
 ],
 "metadata": {
  "kernelspec": {
   "display_name": "Python 3",
   "language": "python",
   "name": "python3"
  },
  "language_info": {
   "codemirror_mode": {
    "name": "ipython",
    "version": 3
   },
   "file_extension": ".py",
   "mimetype": "text/x-python",
   "name": "python",
   "nbconvert_exporter": "python",
   "pygments_lexer": "ipython3",
   "version": "3.7.6-final"
  }
 },
 "nbformat": 4,
 "nbformat_minor": 4
}